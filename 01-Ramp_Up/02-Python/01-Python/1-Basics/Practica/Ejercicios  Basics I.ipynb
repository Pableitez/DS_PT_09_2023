{
 "cells": [
  {
   "cell_type": "markdown",
   "metadata": {},
   "source": [
    "![imagen](./img/ejercicios.png)"
   ]
  },
  {
   "cell_type": "markdown",
   "metadata": {},
   "source": [
    "# Ejercicios Python Basics I"
   ]
  },
  {
   "cell_type": "markdown",
   "metadata": {},
   "source": [
    "## Ejercicio 1\n",
    "Imprime por pantalla esta cita con el siguiente formato\n",
    "\n",
    "![imagen](./img/frase_Einstein.PNG)"
   ]
  },
  {
   "cell_type": "code",
   "execution_count": 67,
   "metadata": {},
   "outputs": [
    {
     "name": "stdout",
     "output_type": "stream",
     "text": [
      "¿Por qué esta magnífica tecnología cientifica,\n",
      "\tque ahorra trabajo y nos hace la vida más fácil,\n",
      "\t\tnos aporta tan poca felicidad?\n",
      "\t\t\tLa respuesta es esta, simplemente porque aún no hemos aprendido a usarla con tino.\n",
      "\"Albert Einstein\"\n"
     ]
    }
   ],
   "source": [
    "cita= str(\"¿Por qué esta magnífica tecnología cientifica,\\n\\tque ahorra trabajo y nos hace la vida más fácil,\\n\\t\\tnos aporta tan poca felicidad?\\n\\t\\t\\tLa respuesta es esta, simplemente porque aún no hemos aprendido a usarla con tino.\\n\\\"Albert Einstein\\\"\")\n",
    "print(cita)"
   ]
  },
  {
   "cell_type": "markdown",
   "metadata": {},
   "source": [
    "## Ejercicio 2\n",
    "1. Escribe el nombre de la calle de tu domicilio en una variable\n",
    "2. Escribe el numero de la calle en otra\n",
    "3. Ciudad en una tercera\n",
    "4. Codigo postal en la cuarta variable\n",
    "5. Crea una quinta variable que concatene todas ellas\n",
    "6. Imprimela por pantalla"
   ]
  },
  {
   "cell_type": "code",
   "execution_count": 12,
   "metadata": {},
   "outputs": [
    {
     "name": "stdout",
     "output_type": "stream",
     "text": [
      "Avenida Instituto Obrero 23 Valencia 49029\n"
     ]
    }
   ],
   "source": [
    "calle = \"Avenida Instituto Obrero\"\n",
    "numero = \"23\"\n",
    "ciudad = \"Valencia\"\n",
    "codigo_postal= \"49029\"\n",
    "direccion = calle + \" \" + numero + \" \" + ciudad + \" \" + codigo_postal\n",
    "print(direccion)"
   ]
  },
  {
   "cell_type": "markdown",
   "metadata": {},
   "source": [
    "## Ejercicio 3\n",
    "Replica el output del ejercicio dos, pero está vez sin usar una variable intermedia que concatene todas las demas. Realiza este ejercicio en una línea, con un  único `print`"
   ]
  },
  {
   "cell_type": "code",
   "execution_count": 10,
   "metadata": {},
   "outputs": [
    {
     "name": "stdout",
     "output_type": "stream",
     "text": [
      "Avenida Instituto Obrero 23 Valencia 49029\n"
     ]
    }
   ],
   "source": [
    "print(calle, numero, ciudad, codigo_postal)"
   ]
  },
  {
   "cell_type": "markdown",
   "metadata": {},
   "source": [
    "## Ejercicio 4\n",
    "¿Qué variables están mal escritas y por qué? Realiza primero tu hipótesis y luego ejecuta las variables para comprobarlo. En ese orden :)\n",
    "\n",
    "\n",
    "1. mi_variable = \"Economía\"\n",
    "2. otra_var = \"Ejercicio\n",
    "2. True = \"Ejercicio\"\n",
    "3. mi variab1e = \"Alpha\"\n",
    "4. import = 40\n",
    "5. 81mi_variable = \"Agua\"\n",
    "6. mi_variable10 = 6"
   ]
  },
  {
   "cell_type": "code",
   "execution_count": 23,
   "metadata": {},
   "outputs": [
    {
     "name": "stdout",
     "output_type": "stream",
     "text": [
      "Economía\n",
      "Ejercicio\n",
      "Ejercicio\n",
      "Alpha\n",
      "40\n",
      "Agua\n",
      "6\n"
     ]
    }
   ],
   "source": [
    "mi_variable = \"Economía\"\n",
    "print (mi_variable)\n",
    "otra_var= \"Ejercicio\"\n",
    "print(otra_var)\n",
    "trueno= \"Ejercicio\"\n",
    "print(trueno)\n",
    "mi_variable = \"Alpha\"\n",
    "print (mi_variable)\n",
    "importante= 40\n",
    "print(importante)\n",
    "ochenta_y_uno_mi_varible= \"Agua\"\n",
    "print (ochenta_y_uno_mi_varible)\n",
    "mi_variable10= 6\n",
    "print(mi_variable10)"
   ]
  },
  {
   "cell_type": "markdown",
   "metadata": {},
   "source": [
    "1. Ok\n",
    "2. Falta cerrar con comillas\n",
    "3. No puedes utilizar palabras reservadas como True\n",
    "4. No podemos poner espacios en el nombre de la variable\n",
    "5. No puedes utilizar palabras reservadas como import\n",
    "6. No se puede iniciar variable con número al principio\n",
    "7. Ok"
   ]
  },
  {
   "cell_type": "markdown",
   "metadata": {},
   "source": [
    "## Ejercicio 5\n",
    "Realiza un conversor de grados Celsius a Fahrenheit. El conversor tiene que recibir el input del usuario y devolver la conversión.\n",
    "\n",
    "La conversión de grados sigue la siguiente fórmula: F = C × (9 / 5) + 32 "
   ]
  },
  {
   "cell_type": "code",
   "execution_count": 29,
   "metadata": {},
   "outputs": [
    {
     "name": "stdout",
     "output_type": "stream",
     "text": [
      "95.0\n"
     ]
    }
   ],
   "source": [
    "C= int(input())\n",
    "F= (C * (9/5)) + 32\n",
    "print (F)"
   ]
  },
  {
   "cell_type": "markdown",
   "metadata": {},
   "source": [
    "## Ejercicio 6\n",
    "Comenta en la medida de lo posible el Ejercicio 5. Será suficiente con poner al menos un comentario de línea, y otro multilínea"
   ]
  },
  {
   "cell_type": "code",
   "execution_count": 37,
   "metadata": {},
   "outputs": [
    {
     "data": {
      "text/plain": [
       "'\\nWe create variable C\\nWe create variable F with formula\\n\\n'"
      ]
     },
     "execution_count": 37,
     "metadata": {},
     "output_type": "execute_result"
    }
   ],
   "source": [
    "#input must be int type\n",
    "\n",
    "\"\"\"\n",
    "We create variable C\n",
    "We create variable F with formula\n",
    "s\n",
    "\"\"\""
   ]
  }
 ],
 "metadata": {
  "kernelspec": {
   "display_name": "Python 3",
   "language": "python",
   "name": "python3"
  },
  "language_info": {
   "codemirror_mode": {
    "name": "ipython",
    "version": 3
   },
   "file_extension": ".py",
   "mimetype": "text/x-python",
   "name": "python",
   "nbconvert_exporter": "python",
   "pygments_lexer": "ipython3",
   "version": "3.11.5"
  },
  "nbTranslate": {
   "displayLangs": [
    "*"
   ],
   "hotkey": "alt-t",
   "langInMainMenu": true,
   "sourceLang": "en",
   "targetLang": "fr",
   "useGoogleTranslate": true
  },
  "varInspector": {
   "cols": {
    "lenName": 16,
    "lenType": 16,
    "lenVar": 40
   },
   "kernels_config": {
    "python": {
     "delete_cmd_postfix": "",
     "delete_cmd_prefix": "del ",
     "library": "var_list.py",
     "varRefreshCmd": "print(var_dic_list())"
    },
    "r": {
     "delete_cmd_postfix": ") ",
     "delete_cmd_prefix": "rm(",
     "library": "var_list.r",
     "varRefreshCmd": "cat(var_dic_list()) "
    }
   },
   "types_to_exclude": [
    "module",
    "function",
    "builtin_function_or_method",
    "instance",
    "_Feature"
   ],
   "window_display": false
  }
 },
 "nbformat": 4,
 "nbformat_minor": 4
}
